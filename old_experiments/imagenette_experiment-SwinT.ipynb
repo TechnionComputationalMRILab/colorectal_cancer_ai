{
 "cells": [
  {
   "cell_type": "markdown",
   "id": "3fe11b9a",
   "metadata": {},
   "source": [
    "From my github: https://github.com/smartdanny/imagenette_starter"
   ]
  },
  {
   "cell_type": "code",
   "execution_count": null,
   "id": "f9960efe",
   "metadata": {},
   "outputs": [],
   "source": [
    "import matplotlib.pyplot as plt"
   ]
  },
  {
   "cell_type": "code",
   "execution_count": null,
   "id": "387ba068",
   "metadata": {},
   "outputs": [],
   "source": [
    "import torch\n",
    "import torchvision\n",
    "import os\n",
    "import tarfile\n",
    "import hashlib\n",
    "\n",
    "# https://github.com/fastai/imagenette\n",
    "\n",
    "#choose image sizes:\n",
    "datasets = {\n",
    "    'full_sz': 'https://s3.amazonaws.com/fast-ai-imageclas/imagenette2.tgz', # 1.5GB\n",
    "    '320px': 'https://s3.amazonaws.com/fast-ai-imageclas/imagenette2-320.tgz', # 326mb\n",
    "    '160px': 'https://s3.amazonaws.com/fast-ai-imageclas/imagenette2-160.tgz' # 94mb\n",
    "}\n",
    "\n",
    "\n",
    "dataset_url = datasets['full_sz']\n",
    "\n",
    "dataset_filename = dataset_url.split('/')[-1]\n",
    "dataset_foldername = dataset_filename.split('.')[0]\n",
    "data_path = '../imagenette_data'\n",
    "dataset_filepath = os.path.join(data_path,dataset_filename)\n",
    "dataset_folderpath = os.path.join(data_path,dataset_foldername)\n",
    "\n",
    "os.makedirs(data_path, exist_ok=True)\n",
    "\n",
    "download = False\n",
    "if not os.path.exists(dataset_filepath):\n",
    "    download = True\n",
    "else:\n",
    "    md5_hash = hashlib.md5()\n",
    "\n",
    "\n",
    "    file = open(dataset_filepath, \"rb\")\n",
    "\n",
    "    content = file.read()\n",
    "\n",
    "    md5_hash.update(content)\n",
    "\n",
    "\n",
    "    digest = md5_hash.hexdigest()\n",
    "    if digest != 'fe2fc210e6bb7c5664d602c3cd71e612':\n",
    "        download = True\n",
    "if download:\n",
    "    torchvision.datasets.utils.download(dataset_url, data_path)\n",
    "\n",
    "with tarfile.open(dataset_filepath, 'r:gz') as tar:\n",
    "    tar.extractall(path=data_path)\n",
    "    "
   ]
  },
  {
   "cell_type": "code",
   "execution_count": null,
   "id": "64dd7486",
   "metadata": {},
   "outputs": [],
   "source": [
    "TRAIN_DIR = os.path.join(dataset_folderpath,'train')\n",
    "TEST_DIR = os.path.join(dataset_folderpath,'val')"
   ]
  },
  {
   "cell_type": "code",
   "execution_count": null,
   "id": "5ca2b8b7",
   "metadata": {},
   "outputs": [],
   "source": [
    "from src.data_stuff import dataset_tools"
   ]
  },
  {
   "cell_type": "code",
   "execution_count": null,
   "id": "0164a0bb",
   "metadata": {},
   "outputs": [],
   "source": [
    "rgb_mean = (0.4914, 0.4822, 0.4465)\n",
    "rgb_std = (0.2023, 0.1994, 0.2010)\n",
    "train_tfms = torchvision.transforms.Compose([\n",
    "    torchvision.transforms.Resize((224, 224)),\n",
    "    # torchvision.transforms.RandomHorizontalFlip(),\n",
    "    torchvision.transforms.ToTensor(),\n",
    "#     torchvision.transforms.Normalize(rgb_mean, rgb_std),\n",
    "])\n",
    "test_tfms = torchvision.transforms.Compose([\n",
    "    torchvision.transforms.Resize((224, 224)),\n",
    "    torchvision.transforms.ToTensor(),\n",
    "#     torchvision.transforms.Normalize(rgb_mean, rgb_std),\n",
    "])\n",
    "\n",
    "\n",
    "# dataset_train = torchvision.datasets.ImageFolder(os.path.join(dataset_folderpath,'train'), train_tfms)\n",
    "# dataset_valid = torchvision.datasets.ImageFolder(os.path.join(dataset_folderpath,'val'), test_tfms)\n",
    "dataset_train = dataset_tools.ImageFolderWithPaths(TRAIN_DIR, train_tfms)\n",
    "dataset_valid = dataset_tools.ImageFolderWithPaths(TEST_DIR, test_tfms)\n",
    "\n",
    "batch_size = 32\n",
    "train_dataloader = torch.utils.data.DataLoader(\n",
    "        dataset_train,\n",
    "        batch_size=batch_size,\n",
    "        num_workers=6,\n",
    "        drop_last=True,\n",
    "        shuffle=True,\n",
    ")\n",
    "val_dataloader = torch.utils.data.DataLoader(\n",
    "        dataset_valid,\n",
    "        batch_size=batch_size,\n",
    "        num_workers=6,\n",
    "        drop_last=True,\n",
    "        shuffle=True,\n",
    ")"
   ]
  },
  {
   "cell_type": "code",
   "execution_count": null,
   "id": "c92ecddb",
   "metadata": {},
   "outputs": [],
   "source": [
    "images = next(iter(train_dataloader))[1]\n",
    "plt.imshow(torchvision.utils.make_grid(images, padding=20).permute(1, 2, 0))"
   ]
  },
  {
   "cell_type": "markdown",
   "id": "1d73a067",
   "metadata": {},
   "source": [
    "# Model"
   ]
  },
  {
   "cell_type": "code",
   "execution_count": null,
   "id": "5a8f2a16",
   "metadata": {},
   "outputs": [],
   "source": [
    "from pytorch_lightning import LightningModule, Trainer\n",
    "from pytorch_lightning.loggers import TensorBoardLogger, WandbLogger\n",
    "import torchvision.models as models\n",
    "\n",
    "# MY local imports\n",
    "from src.callback_stuff import LogConfusionMatrix\n",
    "from src.model_stuff import MySwinTransformer"
   ]
  },
  {
   "cell_type": "code",
   "execution_count": null,
   "id": "d93b532d",
   "metadata": {},
   "outputs": [],
   "source": [
    "EXP_NAME = \"imagenette_SwinT\"\n",
    "logger = TensorBoardLogger(\"lightning_logs\", name=EXP_NAME)"
   ]
  },
  {
   "cell_type": "code",
   "execution_count": null,
   "id": "a80b7873",
   "metadata": {},
   "outputs": [],
   "source": [
    "model = MySwinTransformer.MySwinTransformer(num_classes=10)\n",
    "trainer = Trainer(gpus=1,\n",
    "                  max_epochs=15, \n",
    "                  callbacks=[\n",
    "                      LogConfusionMatrix.LogConfusionMatrix(class_to_idx=dataset_train.class_to_idx)],\n",
    "                 )"
   ]
  },
  {
   "cell_type": "code",
   "execution_count": null,
   "id": "bf794e65",
   "metadata": {
    "scrolled": false
   },
   "outputs": [],
   "source": [
    "trainer.fit(model, train_dataloader=train_dataloader, val_dataloaders=val_dataloader)"
   ]
  },
  {
   "cell_type": "code",
   "execution_count": null,
   "id": "848c5c43",
   "metadata": {},
   "outputs": [],
   "source": []
  }
 ],
 "metadata": {
  "kernelspec": {
   "display_name": "Python 3 (ipykernel)",
   "language": "python",
   "name": "python3"
  },
  "language_info": {
   "codemirror_mode": {
    "name": "ipython",
    "version": 3
   },
   "file_extension": ".py",
   "mimetype": "text/x-python",
   "name": "python",
   "nbconvert_exporter": "python",
   "pygments_lexer": "ipython3",
   "version": "3.9.7"
  }
 },
 "nbformat": 4,
 "nbformat_minor": 5
}
