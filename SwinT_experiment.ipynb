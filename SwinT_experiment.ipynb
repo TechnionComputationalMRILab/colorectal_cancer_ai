{
 "cells": [
  {
   "cell_type": "code",
   "execution_count": null,
   "id": "ea00c1c6",
   "metadata": {},
   "outputs": [],
   "source": [
    "print(\"---- SWINT Exp (tcga) ----\")"
   ]
  },
  {
   "cell_type": "code",
   "execution_count": null,
   "id": "b695c9c2",
   "metadata": {},
   "outputs": [],
   "source": [
    "import numpy as np\n",
    "import pandas as pd\n",
    "import torch\n",
    "import torchvision\n",
    "import matplotlib.pyplot as plt\n",
    "import re\n",
    "\n",
    "from pytorch_lightning import LightningModule, Trainer\n",
    "import torchvision.models as models\n",
    "#from pl_bolts.callbacks import ORTCallback\n",
    "import torchmetrics\n",
    "\n",
    "# MY local imports\n",
    "from src.data_stuff import dataset_tools\n",
    "from src.callback_stuff import LogConfusionMatrix, PatientLevelValidation\n",
    "\n",
    "from tqdm.notebook import tqdm\n",
    "\n",
    "\n",
    "print('CUDA available:', torch.cuda.is_available())"
   ]
  },
  {
   "cell_type": "markdown",
   "id": "4e508c00",
   "metadata": {},
   "source": [
    "# ⬇️ Data"
   ]
  },
  {
   "cell_type": "code",
   "execution_count": null,
   "id": "7581ee39",
   "metadata": {},
   "outputs": [],
   "source": [
    "ROOT_DIR = '/home/shatz/Documents/tcga_data/data/'\n",
    "TRAIN_DIR = ROOT_DIR + 'train'\n",
    "TEST_DIR = ROOT_DIR + 'test'\n",
    "\n",
    "class params:\n",
    "    num_workers = 6\n",
    "    bs = 32\n",
    "\n",
    "### Transforms\n",
    "rgb_mean = (0.4914, 0.4822, 0.4465)\n",
    "rgb_std = (0.2023, 0.1994, 0.2010)\n",
    "train_tfms = torchvision.transforms.Compose([\n",
    "    # torchvision.transforms.RandomCrop(32, padding=4),\n",
    "    torchvision.transforms.RandomHorizontalFlip(),\n",
    "    torchvision.transforms.ToTensor(),\n",
    "    torchvision.transforms.Normalize(rgb_mean, rgb_std),\n",
    "])\n",
    "test_tfms = torchvision.transforms.Compose([\n",
    "    torchvision.transforms.ToTensor(),\n",
    "    torchvision.transforms.Normalize(rgb_mean, rgb_std),\n",
    "])\n",
    "\n",
    "### Datasets\n",
    "train_ds = dataset_tools.ImageFolderWithPaths(TRAIN_DIR, train_tfms)\n",
    "test_ds = dataset_tools.ImageFolderWithPaths(TEST_DIR, test_tfms)\n",
    "\n",
    "class_to_idx = train_ds.class_to_idx\n",
    "\n",
    "# SUBSET FOR TESTING PURPOSES. DELETE LATER #\n",
    "# train_ds = torch.utils.data.Subset(train_ds, np.random.randint(low=0, high=len(train_ds), size=int(len(train_ds)/8)))\n",
    "# test_ds = torch.utils.data.Subset(test_ds, np.random.randint(low=0, high=len(test_ds), size=int(len(test_ds)/8)))\n",
    "\n",
    "### Dataloaders\n",
    "train_dl = torch.utils.data.DataLoader(train_ds, batch_size=params.bs, num_workers=params.num_workers, shuffle=True)\n",
    "test_dl = torch.utils.data.DataLoader(test_ds, batch_size=params.bs, num_workers=params.num_workers, shuffle=False)\n",
    "\n"
   ]
  },
  {
   "cell_type": "code",
   "execution_count": null,
   "id": "245ac378",
   "metadata": {
    "scrolled": true
   },
   "outputs": [],
   "source": [
    "images = next(iter(train_dl))[1]\n",
    "plt.imshow(torchvision.utils.make_grid(images, padding=20).permute(1, 2, 0))"
   ]
  },
  {
   "cell_type": "markdown",
   "id": "08479514",
   "metadata": {
    "tags": []
   },
   "source": [
    "# Model"
   ]
  },
  {
   "cell_type": "code",
   "execution_count": null,
   "id": "ab8c4b74",
   "metadata": {},
   "outputs": [],
   "source": [
    "from pytorch_lightning.loggers import TensorBoardLogger, WandbLogger\n",
    "from src.model_stuff import MySwinTransformer"
   ]
  },
  {
   "cell_type": "code",
   "execution_count": null,
   "id": "a76ff970",
   "metadata": {},
   "outputs": [],
   "source": [
    "EXP_NAME = \"tcga_SwinT\"\n",
    "logger = TensorBoardLogger(\"lightning_logs\", name=EXP_NAME)"
   ]
  },
  {
   "cell_type": "code",
   "execution_count": null,
   "id": "6f149dfc",
   "metadata": {},
   "outputs": [],
   "source": [
    "model = MySwinTransformer.MySwinTransformer(num_classes=2)\n",
    "trainer = Trainer(gpus=1, max_epochs=50, logger=logger, callbacks=[\n",
    "    LogConfusionMatrix.LogConfusionMatrix(class_to_idx=train_ds.class_to_idx),\n",
    "    PatientLevelValidation.PatientLevelValidation()\n",
    "])"
   ]
  },
  {
   "cell_type": "code",
   "execution_count": null,
   "id": "99d10e16",
   "metadata": {
    "scrolled": false
   },
   "outputs": [],
   "source": [
    "trainer.fit(model, train_dataloader=train_dl, val_dataloaders=test_dl)"
   ]
  },
  {
   "cell_type": "code",
   "execution_count": null,
   "id": "01cd5f01",
   "metadata": {},
   "outputs": [],
   "source": [
    "# !jupyter notebook stop 8888"
   ]
  },
  {
   "cell_type": "code",
   "execution_count": null,
   "id": "061c38a9",
   "metadata": {},
   "outputs": [],
   "source": [
    "# !touch done.txt"
   ]
  }
 ],
 "metadata": {
  "kernelspec": {
   "display_name": "Python 3 (ipykernel)",
   "language": "python",
   "name": "python3"
  },
  "language_info": {
   "codemirror_mode": {
    "name": "ipython",
    "version": 3
   },
   "file_extension": ".py",
   "mimetype": "text/x-python",
   "name": "python",
   "nbconvert_exporter": "python",
   "pygments_lexer": "ipython3",
   "version": "3.9.7"
  }
 },
 "nbformat": 4,
 "nbformat_minor": 5
}
